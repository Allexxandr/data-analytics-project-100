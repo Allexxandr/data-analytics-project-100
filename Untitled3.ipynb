{
  "nbformat": 4,
  "nbformat_minor": 0,
  "metadata": {
    "colab": {
      "provenance": [],
      "authorship_tag": "ABX9TyMz5Ftxb/R/r0CjTX49a0eC",
      "include_colab_link": true
    },
    "kernelspec": {
      "name": "python3",
      "display_name": "Python 3"
    },
    "language_info": {
      "name": "python"
    }
  },
  "cells": [
    {
      "cell_type": "markdown",
      "metadata": {
        "id": "view-in-github",
        "colab_type": "text"
      },
      "source": [
        "<a href=\"https://colab.research.google.com/github/Allexxandr/data-analytics-project-100/blob/main/Untitled3.ipynb\" target=\"_parent\"><img src=\"https://colab.research.google.com/assets/colab-badge.svg\" alt=\"Open In Colab\"/></a>"
      ]
    },
    {
      "cell_type": "code",
      "execution_count": null,
      "metadata": {
        "id": "S3CUCFth5gdQ"
      },
      "outputs": [],
      "source": [
        "API_URL=https://data-charts-api.hexlet.app\n",
        "DATE_BEGIN='2023-03-01'\n",
        "DATE_END='2023-09-01'"
      ]
    }
  ]
}