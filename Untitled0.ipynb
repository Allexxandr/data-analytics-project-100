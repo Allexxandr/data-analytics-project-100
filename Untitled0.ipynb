{
  "nbformat": 4,
  "nbformat_minor": 0,
  "metadata": {
    "colab": {
      "provenance": [],
      "authorship_tag": "ABX9TyMtsD8o9iSIm8nqModDLKPv",
      "include_colab_link": true
    },
    "kernelspec": {
      "name": "python3",
      "display_name": "Python 3"
    },
    "language_info": {
      "name": "python"
    }
  },
  "cells": [
    {
      "cell_type": "markdown",
      "metadata": {
        "id": "view-in-github",
        "colab_type": "text"
      },
      "source": [
        "<a href=\"https://colab.research.google.com/github/Allexxandr/data-analytics-project-100/blob/main/Untitled0.ipynb\" target=\"_parent\"><img src=\"https://colab.research.google.com/assets/colab-badge.svg\" alt=\"Open In Colab\"/></a>"
      ]
    },
    {
      "cell_type": "code",
      "execution_count": 2,
      "metadata": {
        "id": "uGeXMh1ixRnq"
      },
      "outputs": [],
      "source": [
        "import pandas as pd\n",
        "\n",
        "https://drive.google.com/file/d/1AeQz0kaSgz0lxYSDtuNm36muhy5fRCzZ/view?usp=drive_link"
      ]
    },
    {
      "cell_type": "code",
      "source": [
        "df_visits = pd.read_csv('https://drive.google.com/uc?export=download&id=1QosQQ4RRNR9rkL4t7sB707h2Uy0XfYJe')\n"
      ],
      "metadata": {
        "id": "sfa7fTI37AOM"
      },
      "execution_count": 11,
      "outputs": []
    },
    {
      "cell_type": "code",
      "source": [
        "df_registrations = pd.read_csv('https://drive.google.com/uc?export=download&id=1AeQz0kaSgz0lxYSDtuNm36muhy5fRCzZ')\n"
      ],
      "metadata": {
        "id": "6Nhq_Hq873J9"
      },
      "execution_count": 14,
      "outputs": []
    }
  ]
}